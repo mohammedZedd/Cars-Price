{
 "cells": [
  {
   "cell_type": "markdown",
   "id": "9be342c6",
   "metadata": {},
   "source": [
    "# Design of a linear regression model for car price prediction."
   ]
  },
  {
   "cell_type": "markdown",
   "id": "f334fa05",
   "metadata": {},
   "source": [
    "\n",
    "### Import Libraries"
   ]
  },
  {
   "cell_type": "code",
   "execution_count": 3,
   "id": "74d551e9",
   "metadata": {
    "ExecuteTime": {
     "end_time": "2022-12-15T01:00:11.707438Z",
     "start_time": "2022-12-15T01:00:11.694488Z"
    }
   },
   "outputs": [],
   "source": [
    "# Answer Here\n",
    "import pandas as pd\n",
    "import numpy as np \n",
    "import seaborn as sns \n",
    "import warnings \n",
    "import matplotlib.pyplot as plt \n",
    "%matplotlib inline \n",
    "warnings.filterwarnings('ignore')"
   ]
  },
  {
   "cell_type": "markdown",
   "id": "7e681103",
   "metadata": {
    "ExecuteTime": {
     "end_time": "2022-12-13T09:14:02.230991Z",
     "start_time": "2022-12-13T09:14:02.220020Z"
    }
   },
   "source": [
    "### Loading the Dataset \"cars.csv\"\n",
    "\n",
    "This dataset contains information about used cars.\n",
    "\n",
    "The columns in the given dataset is as follows:\n",
    "\n",
    "1. car brand name: Car Name\n",
    "2. car age: Number of years since the car was baught.\n",
    "3. **selling_price ($): The price the owner wants to sell the car at.**\n",
    "4. seats: Number of seats.\n",
    "5. km_driven: This is the distance completed by the car in km.\n",
    "6. fuel: Fuel Type (Petrol/Diesel)\n",
    "7. seller_type: Seller Type (Dealer/Individual)\n",
    "8. transmission: Transmission Type (Manual/Automatic)\n",
    "9. owner: Defines the number of owners the car has previously had.\n",
    "10. mileage: Nubmer of Miles.\n",
    "11. engine : Engine Type.\n",
    "12. max_power: Horse Power.\n",
    "13. torque: Engine’s rotational force.\n",
    "\n",
    "The objective is to build a linear regression model and predict car selling prices based on provided features.\n",
    "Essentially, we want to predict the **selling_price** column."
   ]
  },
  {
   "cell_type": "markdown",
   "id": "e3b43685",
   "metadata": {},
   "source": [
    "**Read in the \"cars.csv\" file**."
   ]
  },
  {
   "cell_type": "code",
   "execution_count": 4,
   "id": "329b7fb2",
   "metadata": {
    "ExecuteTime": {
     "end_time": "2022-12-15T01:00:11.723400Z",
     "start_time": "2022-12-15T01:00:11.709409Z"
    }
   },
   "outputs": [],
   "source": [
    "df = pd.read_csv(\"cars.csv\")"
   ]
  },
  {
   "cell_type": "markdown",
   "id": "5230ee7a",
   "metadata": {},
   "source": [
    "**Show the first 5 lines of the dataset**"
   ]
  },
  {
   "cell_type": "code",
   "execution_count": 5,
   "id": "c084f063",
   "metadata": {
    "ExecuteTime": {
     "end_time": "2022-12-15T01:00:11.739361Z",
     "start_time": "2022-12-15T01:00:11.724368Z"
    }
   },
   "outputs": [
    {
     "data": {
      "text/html": [
       "<div>\n",
       "<style scoped>\n",
       "    .dataframe tbody tr th:only-of-type {\n",
       "        vertical-align: middle;\n",
       "    }\n",
       "\n",
       "    .dataframe tbody tr th {\n",
       "        vertical-align: top;\n",
       "    }\n",
       "\n",
       "    .dataframe thead th {\n",
       "        text-align: right;\n",
       "    }\n",
       "</style>\n",
       "<table border=\"1\" class=\"dataframe\">\n",
       "  <thead>\n",
       "    <tr style=\"text-align: right;\">\n",
       "      <th></th>\n",
       "      <th>selling_price</th>\n",
       "      <th>km_driven</th>\n",
       "      <th>fuel</th>\n",
       "      <th>seller_type</th>\n",
       "      <th>transmission</th>\n",
       "      <th>owner</th>\n",
       "      <th>mileage</th>\n",
       "      <th>engine</th>\n",
       "      <th>max_power</th>\n",
       "      <th>seats</th>\n",
       "      <th>car_brand_name</th>\n",
       "      <th>car_age</th>\n",
       "    </tr>\n",
       "  </thead>\n",
       "  <tbody>\n",
       "    <tr>\n",
       "      <th>0</th>\n",
       "      <td>450000</td>\n",
       "      <td>145500</td>\n",
       "      <td>Diesel</td>\n",
       "      <td>Individual</td>\n",
       "      <td>Manual</td>\n",
       "      <td>First Owner</td>\n",
       "      <td>23.40</td>\n",
       "      <td>1248.0</td>\n",
       "      <td>74.00</td>\n",
       "      <td>5.0</td>\n",
       "      <td>Maruti</td>\n",
       "      <td>8</td>\n",
       "    </tr>\n",
       "    <tr>\n",
       "      <th>1</th>\n",
       "      <td>370000</td>\n",
       "      <td>120000</td>\n",
       "      <td>Diesel</td>\n",
       "      <td>Individual</td>\n",
       "      <td>Manual</td>\n",
       "      <td>Second Owner</td>\n",
       "      <td>21.14</td>\n",
       "      <td>1498.0</td>\n",
       "      <td>103.52</td>\n",
       "      <td>5.0</td>\n",
       "      <td>Skoda</td>\n",
       "      <td>8</td>\n",
       "    </tr>\n",
       "    <tr>\n",
       "      <th>2</th>\n",
       "      <td>158000</td>\n",
       "      <td>140000</td>\n",
       "      <td>Petrol</td>\n",
       "      <td>Individual</td>\n",
       "      <td>Manual</td>\n",
       "      <td>Third Owner</td>\n",
       "      <td>17.70</td>\n",
       "      <td>1497.0</td>\n",
       "      <td>78.00</td>\n",
       "      <td>5.0</td>\n",
       "      <td>Honda</td>\n",
       "      <td>16</td>\n",
       "    </tr>\n",
       "    <tr>\n",
       "      <th>3</th>\n",
       "      <td>225000</td>\n",
       "      <td>127000</td>\n",
       "      <td>Diesel</td>\n",
       "      <td>Individual</td>\n",
       "      <td>Manual</td>\n",
       "      <td>First Owner</td>\n",
       "      <td>23.00</td>\n",
       "      <td>1396.0</td>\n",
       "      <td>90.00</td>\n",
       "      <td>5.0</td>\n",
       "      <td>Hyundai</td>\n",
       "      <td>12</td>\n",
       "    </tr>\n",
       "    <tr>\n",
       "      <th>4</th>\n",
       "      <td>130000</td>\n",
       "      <td>120000</td>\n",
       "      <td>Petrol</td>\n",
       "      <td>Individual</td>\n",
       "      <td>Manual</td>\n",
       "      <td>First Owner</td>\n",
       "      <td>16.10</td>\n",
       "      <td>1298.0</td>\n",
       "      <td>88.20</td>\n",
       "      <td>5.0</td>\n",
       "      <td>Maruti</td>\n",
       "      <td>15</td>\n",
       "    </tr>\n",
       "  </tbody>\n",
       "</table>\n",
       "</div>"
      ],
      "text/plain": [
       "   selling_price  km_driven    fuel seller_type transmission         owner  \\\n",
       "0         450000     145500  Diesel  Individual       Manual   First Owner   \n",
       "1         370000     120000  Diesel  Individual       Manual  Second Owner   \n",
       "2         158000     140000  Petrol  Individual       Manual   Third Owner   \n",
       "3         225000     127000  Diesel  Individual       Manual   First Owner   \n",
       "4         130000     120000  Petrol  Individual       Manual   First Owner   \n",
       "\n",
       "   mileage  engine  max_power  seats car_brand_name  car_age  \n",
       "0    23.40  1248.0      74.00    5.0         Maruti        8  \n",
       "1    21.14  1498.0     103.52    5.0          Skoda        8  \n",
       "2    17.70  1497.0      78.00    5.0          Honda       16  \n",
       "3    23.00  1396.0      90.00    5.0        Hyundai       12  \n",
       "4    16.10  1298.0      88.20    5.0         Maruti       15  "
      ]
     },
     "execution_count": 5,
     "metadata": {},
     "output_type": "execute_result"
    }
   ],
   "source": [
    "df.head()"
   ]
  },
  {
   "cell_type": "markdown",
   "id": "ac72f8f7",
   "metadata": {},
   "source": [
    "**Show the number of lines and number of columns in the dataset**"
   ]
  },
  {
   "cell_type": "code",
   "execution_count": 6,
   "id": "5a8ab1bc",
   "metadata": {
    "ExecuteTime": {
     "end_time": "2022-12-15T01:00:11.755322Z",
     "start_time": "2022-12-15T01:00:11.741322Z"
    }
   },
   "outputs": [
    {
     "data": {
      "text/plain": [
       "(8128, 12)"
      ]
     },
     "execution_count": 6,
     "metadata": {},
     "output_type": "execute_result"
    }
   ],
   "source": [
    "df.shape"
   ]
  },
  {
   "cell_type": "markdown",
   "id": "7592afb8",
   "metadata": {},
   "source": [
    "**How many Textual Features ? How many Numeric Features?**"
   ]
  },
  {
   "cell_type": "code",
   "execution_count": 10,
   "id": "552b5a5e",
   "metadata": {
    "ExecuteTime": {
     "end_time": "2022-12-15T01:00:11.771275Z",
     "start_time": "2022-12-15T01:00:11.756315Z"
    }
   },
   "outputs": [
    {
     "name": "stdout",
     "output_type": "stream",
     "text": [
      "<class 'pandas.core.frame.DataFrame'>\n",
      "RangeIndex: 8128 entries, 0 to 8127\n",
      "Data columns (total 12 columns):\n",
      " #   Column          Non-Null Count  Dtype  \n",
      "---  ------          --------------  -----  \n",
      " 0   selling_price   8128 non-null   int64  \n",
      " 1   km_driven       8128 non-null   int64  \n",
      " 2   fuel            8128 non-null   object \n",
      " 3   seller_type     8128 non-null   object \n",
      " 4   transmission    8128 non-null   object \n",
      " 5   owner           8128 non-null   object \n",
      " 6   mileage         7907 non-null   float64\n",
      " 7   engine          7907 non-null   float64\n",
      " 8   max_power       7912 non-null   float64\n",
      " 9   seats           7907 non-null   float64\n",
      " 10  car_brand_name  8128 non-null   object \n",
      " 11  car_age         8128 non-null   int64  \n",
      "dtypes: float64(4), int64(3), object(5)\n",
      "memory usage: 762.1+ KB\n"
     ]
    }
   ],
   "source": [
    "df.info()"
   ]
  },
  {
   "cell_type": "markdown",
   "id": "c42e767e",
   "metadata": {},
   "source": [
    "**Check whether there are null values in the dataset (per column)**"
   ]
  },
  {
   "cell_type": "code",
   "execution_count": 17,
   "id": "15550460",
   "metadata": {
    "ExecuteTime": {
     "end_time": "2022-12-15T01:00:11.787224Z",
     "start_time": "2022-12-15T01:00:11.772272Z"
    }
   },
   "outputs": [
    {
     "data": {
      "text/plain": [
       "selling_price       0\n",
       "km_driven           0\n",
       "fuel                0\n",
       "seller_type         0\n",
       "transmission        0\n",
       "owner               0\n",
       "mileage           221\n",
       "engine            221\n",
       "max_power         216\n",
       "seats             221\n",
       "car_brand_name      0\n",
       "car_age             0\n",
       "dtype: int64"
      ]
     },
     "execution_count": 17,
     "metadata": {},
     "output_type": "execute_result"
    }
   ],
   "source": [
    "# Answer Here\n",
    "df.isnull().sum()"
   ]
  },
  {
   "cell_type": "markdown",
   "id": "133e14d7",
   "metadata": {},
   "source": [
    "**Give a statistical overview of Numeric Features.**"
   ]
  },
  {
   "cell_type": "code",
   "execution_count": 27,
   "id": "4be18541",
   "metadata": {
    "ExecuteTime": {
     "end_time": "2022-12-15T01:00:11.803157Z",
     "start_time": "2022-12-15T01:00:11.788231Z"
    }
   },
   "outputs": [
    {
     "data": {
      "text/html": [
       "<div>\n",
       "<style scoped>\n",
       "    .dataframe tbody tr th:only-of-type {\n",
       "        vertical-align: middle;\n",
       "    }\n",
       "\n",
       "    .dataframe tbody tr th {\n",
       "        vertical-align: top;\n",
       "    }\n",
       "\n",
       "    .dataframe thead th {\n",
       "        text-align: right;\n",
       "    }\n",
       "</style>\n",
       "<table border=\"1\" class=\"dataframe\">\n",
       "  <thead>\n",
       "    <tr style=\"text-align: right;\">\n",
       "      <th></th>\n",
       "      <th>selling_price</th>\n",
       "      <th>km_driven</th>\n",
       "      <th>mileage</th>\n",
       "      <th>engine</th>\n",
       "      <th>max_power</th>\n",
       "      <th>seats</th>\n",
       "      <th>car_age</th>\n",
       "    </tr>\n",
       "  </thead>\n",
       "  <tbody>\n",
       "    <tr>\n",
       "      <th>count</th>\n",
       "      <td>8.128000e+03</td>\n",
       "      <td>8.128000e+03</td>\n",
       "      <td>7907.000000</td>\n",
       "      <td>7907.000000</td>\n",
       "      <td>7912.000000</td>\n",
       "      <td>7907.000000</td>\n",
       "      <td>8128.000000</td>\n",
       "    </tr>\n",
       "    <tr>\n",
       "      <th>mean</th>\n",
       "      <td>6.382718e+05</td>\n",
       "      <td>6.981951e+04</td>\n",
       "      <td>19.418783</td>\n",
       "      <td>1458.625016</td>\n",
       "      <td>91.517919</td>\n",
       "      <td>5.416719</td>\n",
       "      <td>8.195989</td>\n",
       "    </tr>\n",
       "    <tr>\n",
       "      <th>std</th>\n",
       "      <td>8.062534e+05</td>\n",
       "      <td>5.655055e+04</td>\n",
       "      <td>4.037145</td>\n",
       "      <td>503.916303</td>\n",
       "      <td>35.822499</td>\n",
       "      <td>0.959588</td>\n",
       "      <td>4.044249</td>\n",
       "    </tr>\n",
       "    <tr>\n",
       "      <th>min</th>\n",
       "      <td>2.999900e+04</td>\n",
       "      <td>1.000000e+00</td>\n",
       "      <td>0.000000</td>\n",
       "      <td>624.000000</td>\n",
       "      <td>0.000000</td>\n",
       "      <td>2.000000</td>\n",
       "      <td>2.000000</td>\n",
       "    </tr>\n",
       "    <tr>\n",
       "      <th>25%</th>\n",
       "      <td>2.549990e+05</td>\n",
       "      <td>3.500000e+04</td>\n",
       "      <td>16.780000</td>\n",
       "      <td>1197.000000</td>\n",
       "      <td>68.050000</td>\n",
       "      <td>5.000000</td>\n",
       "      <td>5.000000</td>\n",
       "    </tr>\n",
       "    <tr>\n",
       "      <th>50%</th>\n",
       "      <td>4.500000e+05</td>\n",
       "      <td>6.000000e+04</td>\n",
       "      <td>19.300000</td>\n",
       "      <td>1248.000000</td>\n",
       "      <td>82.000000</td>\n",
       "      <td>5.000000</td>\n",
       "      <td>7.000000</td>\n",
       "    </tr>\n",
       "    <tr>\n",
       "      <th>75%</th>\n",
       "      <td>6.750000e+05</td>\n",
       "      <td>9.800000e+04</td>\n",
       "      <td>22.320000</td>\n",
       "      <td>1582.000000</td>\n",
       "      <td>102.000000</td>\n",
       "      <td>5.000000</td>\n",
       "      <td>11.000000</td>\n",
       "    </tr>\n",
       "    <tr>\n",
       "      <th>max</th>\n",
       "      <td>1.000000e+07</td>\n",
       "      <td>2.360457e+06</td>\n",
       "      <td>42.000000</td>\n",
       "      <td>3604.000000</td>\n",
       "      <td>400.000000</td>\n",
       "      <td>14.000000</td>\n",
       "      <td>39.000000</td>\n",
       "    </tr>\n",
       "  </tbody>\n",
       "</table>\n",
       "</div>"
      ],
      "text/plain": [
       "       selling_price     km_driven      mileage       engine    max_power  \\\n",
       "count   8.128000e+03  8.128000e+03  7907.000000  7907.000000  7912.000000   \n",
       "mean    6.382718e+05  6.981951e+04    19.418783  1458.625016    91.517919   \n",
       "std     8.062534e+05  5.655055e+04     4.037145   503.916303    35.822499   \n",
       "min     2.999900e+04  1.000000e+00     0.000000   624.000000     0.000000   \n",
       "25%     2.549990e+05  3.500000e+04    16.780000  1197.000000    68.050000   \n",
       "50%     4.500000e+05  6.000000e+04    19.300000  1248.000000    82.000000   \n",
       "75%     6.750000e+05  9.800000e+04    22.320000  1582.000000   102.000000   \n",
       "max     1.000000e+07  2.360457e+06    42.000000  3604.000000   400.000000   \n",
       "\n",
       "             seats      car_age  \n",
       "count  7907.000000  8128.000000  \n",
       "mean      5.416719     8.195989  \n",
       "std       0.959588     4.044249  \n",
       "min       2.000000     2.000000  \n",
       "25%       5.000000     5.000000  \n",
       "50%       5.000000     7.000000  \n",
       "75%       5.000000    11.000000  \n",
       "max      14.000000    39.000000  "
      ]
     },
     "execution_count": 27,
     "metadata": {},
     "output_type": "execute_result"
    }
   ],
   "source": [
    "# Answer Here\n",
    "df.describe()"
   ]
  },
  {
   "cell_type": "markdown",
   "id": "8227b454",
   "metadata": {},
   "source": [
    "**Answer the following questions:**\n",
    "1. What is the oldest and newest car: provide the min and max age.\n",
    "2. What is the minimum and maximum selling price ?\n",
    "3. What is the minimum and maximum number of seats ?"
   ]
  },
  {
   "cell_type": "code",
   "execution_count": 33,
   "id": "458f32e7",
   "metadata": {
    "ExecuteTime": {
     "end_time": "2022-12-15T01:00:11.819139Z",
     "start_time": "2022-12-15T01:00:11.804154Z"
    }
   },
   "outputs": [
    {
     "data": {
      "text/html": [
       "<div>\n",
       "<style scoped>\n",
       "    .dataframe tbody tr th:only-of-type {\n",
       "        vertical-align: middle;\n",
       "    }\n",
       "\n",
       "    .dataframe tbody tr th {\n",
       "        vertical-align: top;\n",
       "    }\n",
       "\n",
       "    .dataframe thead th {\n",
       "        text-align: right;\n",
       "    }\n",
       "</style>\n",
       "<table border=\"1\" class=\"dataframe\">\n",
       "  <thead>\n",
       "    <tr style=\"text-align: right;\">\n",
       "      <th></th>\n",
       "      <th>selling_price</th>\n",
       "      <th>km_driven</th>\n",
       "      <th>fuel</th>\n",
       "      <th>seller_type</th>\n",
       "      <th>transmission</th>\n",
       "      <th>owner</th>\n",
       "      <th>mileage</th>\n",
       "      <th>engine</th>\n",
       "      <th>max_power</th>\n",
       "      <th>seats</th>\n",
       "      <th>car_brand_name</th>\n",
       "      <th>car_age</th>\n",
       "    </tr>\n",
       "  </thead>\n",
       "  <tbody>\n",
       "    <tr>\n",
       "      <th>316</th>\n",
       "      <td>300000</td>\n",
       "      <td>10000</td>\n",
       "      <td>Diesel</td>\n",
       "      <td>Individual</td>\n",
       "      <td>Manual</td>\n",
       "      <td>Third Owner</td>\n",
       "      <td>NaN</td>\n",
       "      <td>NaN</td>\n",
       "      <td>NaN</td>\n",
       "      <td>NaN</td>\n",
       "      <td>Mahindra</td>\n",
       "      <td>39</td>\n",
       "    </tr>\n",
       "  </tbody>\n",
       "</table>\n",
       "</div>"
      ],
      "text/plain": [
       "     selling_price  km_driven    fuel seller_type transmission        owner  \\\n",
       "316         300000      10000  Diesel  Individual       Manual  Third Owner   \n",
       "\n",
       "     mileage  engine  max_power  seats car_brand_name  car_age  \n",
       "316      NaN     NaN        NaN    NaN       Mahindra       39  "
      ]
     },
     "execution_count": 33,
     "metadata": {},
     "output_type": "execute_result"
    }
   ],
   "source": [
    "# Answer Here\n",
    "oldest_car=df[df[\"car_age\"]==df[\"car_age\"].max()]\n",
    "oldest_car"
   ]
  },
  {
   "cell_type": "code",
   "execution_count": 34,
   "id": "d22c7378",
   "metadata": {},
   "outputs": [
    {
     "data": {
      "text/html": [
       "<div>\n",
       "<style scoped>\n",
       "    .dataframe tbody tr th:only-of-type {\n",
       "        vertical-align: middle;\n",
       "    }\n",
       "\n",
       "    .dataframe tbody tr th {\n",
       "        vertical-align: top;\n",
       "    }\n",
       "\n",
       "    .dataframe thead th {\n",
       "        text-align: right;\n",
       "    }\n",
       "</style>\n",
       "<table border=\"1\" class=\"dataframe\">\n",
       "  <thead>\n",
       "    <tr style=\"text-align: right;\">\n",
       "      <th></th>\n",
       "      <th>selling_price</th>\n",
       "      <th>km_driven</th>\n",
       "      <th>fuel</th>\n",
       "      <th>seller_type</th>\n",
       "      <th>transmission</th>\n",
       "      <th>owner</th>\n",
       "      <th>mileage</th>\n",
       "      <th>engine</th>\n",
       "      <th>max_power</th>\n",
       "      <th>seats</th>\n",
       "      <th>car_brand_name</th>\n",
       "      <th>car_age</th>\n",
       "    </tr>\n",
       "  </thead>\n",
       "  <tbody>\n",
       "    <tr>\n",
       "      <th>106</th>\n",
       "      <td>400000</td>\n",
       "      <td>5000</td>\n",
       "      <td>Petrol</td>\n",
       "      <td>Individual</td>\n",
       "      <td>Manual</td>\n",
       "      <td>Second Owner</td>\n",
       "      <td>19.00</td>\n",
       "      <td>1194.0</td>\n",
       "      <td>94.68</td>\n",
       "      <td>5.0</td>\n",
       "      <td>Ford</td>\n",
       "      <td>2</td>\n",
       "    </tr>\n",
       "    <tr>\n",
       "      <th>115</th>\n",
       "      <td>475000</td>\n",
       "      <td>13000</td>\n",
       "      <td>Petrol</td>\n",
       "      <td>Individual</td>\n",
       "      <td>Manual</td>\n",
       "      <td>First Owner</td>\n",
       "      <td>21.63</td>\n",
       "      <td>998.0</td>\n",
       "      <td>67.04</td>\n",
       "      <td>5.0</td>\n",
       "      <td>Maruti</td>\n",
       "      <td>2</td>\n",
       "    </tr>\n",
       "    <tr>\n",
       "      <th>196</th>\n",
       "      <td>720000</td>\n",
       "      <td>5000</td>\n",
       "      <td>Petrol</td>\n",
       "      <td>Individual</td>\n",
       "      <td>Manual</td>\n",
       "      <td>First Owner</td>\n",
       "      <td>18.60</td>\n",
       "      <td>1197.0</td>\n",
       "      <td>81.86</td>\n",
       "      <td>5.0</td>\n",
       "      <td>Hyundai</td>\n",
       "      <td>2</td>\n",
       "    </tr>\n",
       "    <tr>\n",
       "      <th>224</th>\n",
       "      <td>524000</td>\n",
       "      <td>32000</td>\n",
       "      <td>Petrol</td>\n",
       "      <td>Individual</td>\n",
       "      <td>Manual</td>\n",
       "      <td>First Owner</td>\n",
       "      <td>20.14</td>\n",
       "      <td>1197.0</td>\n",
       "      <td>81.86</td>\n",
       "      <td>5.0</td>\n",
       "      <td>Hyundai</td>\n",
       "      <td>2</td>\n",
       "    </tr>\n",
       "    <tr>\n",
       "      <th>402</th>\n",
       "      <td>409999</td>\n",
       "      <td>35000</td>\n",
       "      <td>CNG</td>\n",
       "      <td>Individual</td>\n",
       "      <td>Manual</td>\n",
       "      <td>First Owner</td>\n",
       "      <td>20.88</td>\n",
       "      <td>1196.0</td>\n",
       "      <td>61.70</td>\n",
       "      <td>5.0</td>\n",
       "      <td>Maruti</td>\n",
       "      <td>2</td>\n",
       "    </tr>\n",
       "    <tr>\n",
       "      <th>...</th>\n",
       "      <td>...</td>\n",
       "      <td>...</td>\n",
       "      <td>...</td>\n",
       "      <td>...</td>\n",
       "      <td>...</td>\n",
       "      <td>...</td>\n",
       "      <td>...</td>\n",
       "      <td>...</td>\n",
       "      <td>...</td>\n",
       "      <td>...</td>\n",
       "      <td>...</td>\n",
       "      <td>...</td>\n",
       "    </tr>\n",
       "    <tr>\n",
       "      <th>7492</th>\n",
       "      <td>500000</td>\n",
       "      <td>1000</td>\n",
       "      <td>Petrol</td>\n",
       "      <td>Individual</td>\n",
       "      <td>Manual</td>\n",
       "      <td>First Owner</td>\n",
       "      <td>20.30</td>\n",
       "      <td>1086.0</td>\n",
       "      <td>68.07</td>\n",
       "      <td>5.0</td>\n",
       "      <td>Hyundai</td>\n",
       "      <td>2</td>\n",
       "    </tr>\n",
       "    <tr>\n",
       "      <th>7507</th>\n",
       "      <td>800000</td>\n",
       "      <td>25000</td>\n",
       "      <td>Diesel</td>\n",
       "      <td>Individual</td>\n",
       "      <td>Manual</td>\n",
       "      <td>First Owner</td>\n",
       "      <td>21.66</td>\n",
       "      <td>1498.0</td>\n",
       "      <td>108.62</td>\n",
       "      <td>5.0</td>\n",
       "      <td>Volkswagen</td>\n",
       "      <td>2</td>\n",
       "    </tr>\n",
       "    <tr>\n",
       "      <th>7586</th>\n",
       "      <td>600000</td>\n",
       "      <td>5000</td>\n",
       "      <td>Petrol</td>\n",
       "      <td>Individual</td>\n",
       "      <td>Automatic</td>\n",
       "      <td>First Owner</td>\n",
       "      <td>20.89</td>\n",
       "      <td>1197.0</td>\n",
       "      <td>81.80</td>\n",
       "      <td>5.0</td>\n",
       "      <td>Maruti</td>\n",
       "      <td>2</td>\n",
       "    </tr>\n",
       "    <tr>\n",
       "      <th>7589</th>\n",
       "      <td>445000</td>\n",
       "      <td>1000</td>\n",
       "      <td>Petrol</td>\n",
       "      <td>Individual</td>\n",
       "      <td>Manual</td>\n",
       "      <td>First Owner</td>\n",
       "      <td>21.21</td>\n",
       "      <td>1197.0</td>\n",
       "      <td>81.80</td>\n",
       "      <td>5.0</td>\n",
       "      <td>Maruti</td>\n",
       "      <td>2</td>\n",
       "    </tr>\n",
       "    <tr>\n",
       "      <th>7661</th>\n",
       "      <td>3200000</td>\n",
       "      <td>3000</td>\n",
       "      <td>Diesel</td>\n",
       "      <td>Individual</td>\n",
       "      <td>Automatic</td>\n",
       "      <td>First Owner</td>\n",
       "      <td>15.04</td>\n",
       "      <td>2755.0</td>\n",
       "      <td>174.50</td>\n",
       "      <td>7.0</td>\n",
       "      <td>Toyota</td>\n",
       "      <td>2</td>\n",
       "    </tr>\n",
       "  </tbody>\n",
       "</table>\n",
       "<p>74 rows × 12 columns</p>\n",
       "</div>"
      ],
      "text/plain": [
       "      selling_price  km_driven    fuel seller_type transmission         owner  \\\n",
       "106          400000       5000  Petrol  Individual       Manual  Second Owner   \n",
       "115          475000      13000  Petrol  Individual       Manual   First Owner   \n",
       "196          720000       5000  Petrol  Individual       Manual   First Owner   \n",
       "224          524000      32000  Petrol  Individual       Manual   First Owner   \n",
       "402          409999      35000     CNG  Individual       Manual   First Owner   \n",
       "...             ...        ...     ...         ...          ...           ...   \n",
       "7492         500000       1000  Petrol  Individual       Manual   First Owner   \n",
       "7507         800000      25000  Diesel  Individual       Manual   First Owner   \n",
       "7586         600000       5000  Petrol  Individual    Automatic   First Owner   \n",
       "7589         445000       1000  Petrol  Individual       Manual   First Owner   \n",
       "7661        3200000       3000  Diesel  Individual    Automatic   First Owner   \n",
       "\n",
       "      mileage  engine  max_power  seats car_brand_name  car_age  \n",
       "106     19.00  1194.0      94.68    5.0           Ford        2  \n",
       "115     21.63   998.0      67.04    5.0         Maruti        2  \n",
       "196     18.60  1197.0      81.86    5.0        Hyundai        2  \n",
       "224     20.14  1197.0      81.86    5.0        Hyundai        2  \n",
       "402     20.88  1196.0      61.70    5.0         Maruti        2  \n",
       "...       ...     ...        ...    ...            ...      ...  \n",
       "7492    20.30  1086.0      68.07    5.0        Hyundai        2  \n",
       "7507    21.66  1498.0     108.62    5.0     Volkswagen        2  \n",
       "7586    20.89  1197.0      81.80    5.0         Maruti        2  \n",
       "7589    21.21  1197.0      81.80    5.0         Maruti        2  \n",
       "7661    15.04  2755.0     174.50    7.0         Toyota        2  \n",
       "\n",
       "[74 rows x 12 columns]"
      ]
     },
     "execution_count": 34,
     "metadata": {},
     "output_type": "execute_result"
    }
   ],
   "source": [
    "# Answer Here\n",
    "newest_car=df[df[\"car_age\"]==df[\"car_age\"].min()]\n",
    "newest_car"
   ]
  },
  {
   "cell_type": "markdown",
   "id": "d1653803",
   "metadata": {},
   "source": [
    "### Exploratory Data Analysis and Visualization"
   ]
  },
  {
   "cell_type": "markdown",
   "id": "56048e9b",
   "metadata": {
    "ExecuteTime": {
     "end_time": "2022-12-13T10:26:32.461368Z",
     "start_time": "2022-12-13T10:26:32.441161Z"
    }
   },
   "source": [
    "**Provide a barplot of the selling price**"
   ]
  },
  {
   "cell_type": "code",
   "execution_count": 107,
   "id": "2df7b887",
   "metadata": {
    "ExecuteTime": {
     "end_time": "2022-12-15T01:00:11.835096Z",
     "start_time": "2022-12-15T01:00:11.820111Z"
    }
   },
   "outputs": [
    {
     "data": {
      "text/plain": [
       "<AxesSubplot:>"
      ]
     },
     "execution_count": 107,
     "metadata": {},
     "output_type": "execute_result"
    },
    {
     "data": {
      "image/png": "[encoded data removed]",
      "text/plain": [
       "<Figure size 640x480 with 1 Axes>"
      ]
     },
     "metadata": {},
     "output_type": "display_data"
    }
   ],
   "source": [
    "# Answer Here \n",
    "#!!!!!!!²\n",
    "sns.barplot(data=df[\"selling_price\"])"
   ]
  },
  {
   "cell_type": "markdown",
   "id": "ef929bf3",
   "metadata": {},
   "source": [
    "**Provide a boxplot of the mileage column**"
   ]
  },
  {
   "cell_type": "code",
   "execution_count": 39,
   "id": "99987e71",
   "metadata": {
    "ExecuteTime": {
     "end_time": "2022-12-15T01:00:11.851054Z",
     "start_time": "2022-12-15T01:00:11.838088Z"
    }
   },
   "outputs": [
    {
     "data": {
      "text/plain": [
       "<AxesSubplot:xlabel='mileage'>"
      ]
     },
     "execution_count": 39,
     "metadata": {},
     "output_type": "execute_result"
    },
    {
     "data": {
      "image/png": "[encoded data removed]",
      "text/plain": [
       "<Figure size 640x480 with 1 Axes>"
      ]
     },
     "metadata": {},
     "output_type": "display_data"
    }
   ],
   "source": [
    "# Answer Here\n",
    "sns.boxplot(df[\"mileage\"])"
   ]
  },
  {
   "cell_type": "markdown",
   "id": "be25eccf",
   "metadata": {},
   "source": [
    "**Provide a histogram of cars max power**"
   ]
  },
  {
   "cell_type": "code",
   "execution_count": 43,
   "id": "95c0999c",
   "metadata": {
    "ExecuteTime": {
     "end_time": "2022-12-15T01:00:11.866986Z",
     "start_time": "2022-12-15T01:00:11.853023Z"
    }
   },
   "outputs": [
    {
     "data": {
      "text/plain": [
       "<AxesSubplot:xlabel='max_power', ylabel='Count'>"
      ]
     },
     "execution_count": 43,
     "metadata": {},
     "output_type": "execute_result"
    },
    {
     "data": {
      "image/png": "[encoded data removed]",
      "text/plain": [
       "<Figure size 640x480 with 1 Axes>"
      ]
     },
     "metadata": {},
     "output_type": "display_data"
    }
   ],
   "source": [
    "# Answer Here\n",
    "sns.histplot(df[\"max_power\"])"
   ]
  },
  {
   "cell_type": "markdown",
   "id": "80db9865",
   "metadata": {},
   "source": [
    "**Provide a historgram of the car age**"
   ]
  },
  {
   "cell_type": "code",
   "execution_count": 44,
   "id": "2a9753a0",
   "metadata": {
    "ExecuteTime": {
     "end_time": "2022-12-15T01:00:11.882943Z",
     "start_time": "2022-12-15T01:00:11.868980Z"
    }
   },
   "outputs": [
    {
     "data": {
      "text/plain": [
       "<AxesSubplot:xlabel='car_age', ylabel='Count'>"
      ]
     },
     "execution_count": 44,
     "metadata": {},
     "output_type": "execute_result"
    },
    {
     "data": {
      "image/png": "[encoded data removed]",
      "text/plain": [
       "<Figure size 640x480 with 1 Axes>"
      ]
     },
     "metadata": {},
     "output_type": "display_data"
    }
   ],
   "source": [
    "# Answer Here\n",
    "sns.histplot(df[\"car_age\"])"
   ]
  },
  {
   "cell_type": "markdown",
   "id": "c67097b6",
   "metadata": {},
   "source": [
    "**Provide a countplot of the fuel type**"
   ]
  },
  {
   "cell_type": "code",
   "execution_count": 45,
   "id": "12755013",
   "metadata": {
    "ExecuteTime": {
     "end_time": "2022-12-15T01:00:11.898925Z",
     "start_time": "2022-12-15T01:00:11.883940Z"
    }
   },
   "outputs": [
    {
     "data": {
      "text/plain": [
       "<AxesSubplot:xlabel='fuel', ylabel='count'>"
      ]
     },
     "execution_count": 45,
     "metadata": {},
     "output_type": "execute_result"
    },
    {
     "data": {
      "image/png": "[encoded data removed]",
      "text/plain": [
       "<Figure size 640x480 with 1 Axes>"
      ]
     },
     "metadata": {},
     "output_type": "display_data"
    }
   ],
   "source": [
    "# Answer Here\n",
    "sns.countplot(df[\"fuel\"])"
   ]
  },
  {
   "cell_type": "markdown",
   "id": "5643cf6b",
   "metadata": {},
   "source": [
    "**Provide a countplot of the transmission type**"
   ]
  },
  {
   "cell_type": "code",
   "execution_count": 46,
   "id": "38e86baf",
   "metadata": {
    "ExecuteTime": {
     "end_time": "2022-12-15T01:00:11.913887Z",
     "start_time": "2022-12-15T01:00:11.899897Z"
    }
   },
   "outputs": [
    {
     "data": {
      "text/plain": [
       "<AxesSubplot:xlabel='transmission', ylabel='count'>"
      ]
     },
     "execution_count": 46,
     "metadata": {},
     "output_type": "execute_result"
    },
    {
     "data": {
      "image/png": "[encoded data removed]",
      "text/plain": [
       "<Figure size 640x480 with 1 Axes>"
      ]
     },
     "metadata": {},
     "output_type": "display_data"
    }
   ],
   "source": [
    "# Answer Here\n",
    "sns.countplot(df[\"transmission\"])"
   ]
  },
  {
   "cell_type": "markdown",
   "id": "107cd68b",
   "metadata": {},
   "source": [
    "**Provide a barplot of the selling price and the number of owners**"
   ]
  },
  {
   "cell_type": "code",
   "execution_count": 108,
   "id": "ee5c036a",
   "metadata": {
    "ExecuteTime": {
     "end_time": "2022-12-15T01:00:11.929852Z",
     "start_time": "2022-12-15T01:00:11.914858Z"
    }
   },
   "outputs": [
    {
     "data": {
      "text/plain": [
       "<AxesSubplot:xlabel='owner', ylabel='selling_price'>"
      ]
     },
     "execution_count": 108,
     "metadata": {},
     "output_type": "execute_result"
    },
    {
     "data": {
      "image/png": "[encoded data removed]",
      "text/plain": [
       "<Figure size 640x480 with 1 Axes>"
      ]
     },
     "metadata": {},
     "output_type": "display_data"
    }
   ],
   "source": [
    "# Answer Here\n",
    "sns.barplot(data=df, x=\"owner\",y=\"selling_price\")"
   ]
  },
  {
   "cell_type": "markdown",
   "id": "521f80c7",
   "metadata": {},
   "source": [
    "**Provide a scatterplot that depicts the relationship of both max power and selling price**"
   ]
  },
  {
   "cell_type": "code",
   "execution_count": 49,
   "id": "763ffeba",
   "metadata": {
    "ExecuteTime": {
     "end_time": "2022-12-15T01:00:11.945810Z",
     "start_time": "2022-12-15T01:00:11.931812Z"
    },
    "scrolled": false
   },
   "outputs": [
    {
     "data": {
      "text/plain": [
       "<AxesSubplot:xlabel='selling_price', ylabel='max_power'>"
      ]
     },
     "execution_count": 49,
     "metadata": {},
     "output_type": "execute_result"
    },
    {
     "data": {
      "image/png": "[encoded data removed]",
      "text/plain": [
       "<Figure size 640x480 with 1 Axes>"
      ]
     },
     "metadata": {},
     "output_type": "display_data"
    }
   ],
   "source": [
    "# Answer Here\n",
    "sns.scatterplot(data=df,x=\"selling_price\",y=\"max_power\")"
   ]
  },
  {
   "cell_type": "markdown",
   "id": "d8af05b4",
   "metadata": {},
   "source": [
    "**Provide a scatterplot that depicts the relationship of both the engine and max power**"
   ]
  },
  {
   "cell_type": "code",
   "execution_count": 50,
   "id": "e52103f8",
   "metadata": {
    "ExecuteTime": {
     "end_time": "2022-12-15T01:00:11.961768Z",
     "start_time": "2022-12-15T01:00:11.946771Z"
    }
   },
   "outputs": [
    {
     "data": {
      "text/plain": [
       "<AxesSubplot:xlabel='engine', ylabel='max_power'>"
      ]
     },
     "execution_count": 50,
     "metadata": {},
     "output_type": "execute_result"
    },
    {
     "data": {
      "image/png": "[encoded data removed]",
      "text/plain": [
       "<Figure size 640x480 with 1 Axes>"
      ]
     },
     "metadata": {},
     "output_type": "display_data"
    }
   ],
   "source": [
    "# Answer Here\n",
    "sns.scatterplot(data=df,x=\"engine\",y=\"max_power\")"
   ]
  },
  {
   "cell_type": "markdown",
   "id": "ba2d4b18",
   "metadata": {},
   "source": [
    "**Plot the Correlation between columns in a heatmap. Note: Display correlation values**"
   ]
  },
  {
   "cell_type": "code",
   "execution_count": 54,
   "id": "c31693e8",
   "metadata": {
    "ExecuteTime": {
     "end_time": "2022-12-15T01:00:11.977724Z",
     "start_time": "2022-12-15T01:00:11.962763Z"
    }
   },
   "outputs": [
    {
     "data": {
      "text/plain": [
       "<AxesSubplot:>"
      ]
     },
     "execution_count": 54,
     "metadata": {},
     "output_type": "execute_result"
    },
    {
     "data": {
      "image/png": "[encoded data removed]",
      "text/plain": [
       "<Figure size 1200x800 with 2 Axes>"
      ]
     },
     "metadata": {},
     "output_type": "display_data"
    }
   ],
   "source": [
    "# Answer Here\n",
    "plt.figure(figsize=(12,8))\n",
    "sns.heatmap(df.corr(),annot=True)"
   ]
  },
  {
   "cell_type": "markdown",
   "id": "0d52ff2f",
   "metadata": {},
   "source": [
    "### Feature Engineering\n"
   ]
  },
  {
   "cell_type": "markdown",
   "id": "d313000d",
   "metadata": {
    "ExecuteTime": {
     "end_time": "2022-12-13T11:01:47.064580Z",
     "start_time": "2022-12-13T11:01:47.042115Z"
    }
   },
   "source": [
    "**Drop the car brand name column.**"
   ]
  },
  {
   "cell_type": "code",
   "execution_count": 57,
   "id": "b5694a3f",
   "metadata": {
    "ExecuteTime": {
     "end_time": "2022-12-15T01:00:11.993646Z",
     "start_time": "2022-12-15T01:00:11.979683Z"
    }
   },
   "outputs": [
    {
     "data": {
      "text/html": [
       "<div>\n",
       "<style scoped>\n",
       "    .dataframe tbody tr th:only-of-type {\n",
       "        vertical-align: middle;\n",
       "    }\n",
       "\n",
       "    .dataframe tbody tr th {\n",
       "        vertical-align: top;\n",
       "    }\n",
       "\n",
       "    .dataframe thead th {\n",
       "        text-align: right;\n",
       "    }\n",
       "</style>\n",
       "<table border=\"1\" class=\"dataframe\">\n",
       "  <thead>\n",
       "    <tr style=\"text-align: right;\">\n",
       "      <th></th>\n",
       "      <th>selling_price</th>\n",
       "      <th>km_driven</th>\n",
       "      <th>fuel</th>\n",
       "      <th>seller_type</th>\n",
       "      <th>transmission</th>\n",
       "      <th>owner</th>\n",
       "      <th>mileage</th>\n",
       "      <th>engine</th>\n",
       "      <th>max_power</th>\n",
       "      <th>seats</th>\n",
       "      <th>car_age</th>\n",
       "    </tr>\n",
       "  </thead>\n",
       "  <tbody>\n",
       "    <tr>\n",
       "      <th>0</th>\n",
       "      <td>450000</td>\n",
       "      <td>145500</td>\n",
       "      <td>Diesel</td>\n",
       "      <td>Individual</td>\n",
       "      <td>Manual</td>\n",
       "      <td>First Owner</td>\n",
       "      <td>23.40</td>\n",
       "      <td>1248.0</td>\n",
       "      <td>74.00</td>\n",
       "      <td>5.0</td>\n",
       "      <td>8</td>\n",
       "    </tr>\n",
       "    <tr>\n",
       "      <th>1</th>\n",
       "      <td>370000</td>\n",
       "      <td>120000</td>\n",
       "      <td>Diesel</td>\n",
       "      <td>Individual</td>\n",
       "      <td>Manual</td>\n",
       "      <td>Second Owner</td>\n",
       "      <td>21.14</td>\n",
       "      <td>1498.0</td>\n",
       "      <td>103.52</td>\n",
       "      <td>5.0</td>\n",
       "      <td>8</td>\n",
       "    </tr>\n",
       "    <tr>\n",
       "      <th>2</th>\n",
       "      <td>158000</td>\n",
       "      <td>140000</td>\n",
       "      <td>Petrol</td>\n",
       "      <td>Individual</td>\n",
       "      <td>Manual</td>\n",
       "      <td>Third Owner</td>\n",
       "      <td>17.70</td>\n",
       "      <td>1497.0</td>\n",
       "      <td>78.00</td>\n",
       "      <td>5.0</td>\n",
       "      <td>16</td>\n",
       "    </tr>\n",
       "    <tr>\n",
       "      <th>3</th>\n",
       "      <td>225000</td>\n",
       "      <td>127000</td>\n",
       "      <td>Diesel</td>\n",
       "      <td>Individual</td>\n",
       "      <td>Manual</td>\n",
       "      <td>First Owner</td>\n",
       "      <td>23.00</td>\n",
       "      <td>1396.0</td>\n",
       "      <td>90.00</td>\n",
       "      <td>5.0</td>\n",
       "      <td>12</td>\n",
       "    </tr>\n",
       "    <tr>\n",
       "      <th>4</th>\n",
       "      <td>130000</td>\n",
       "      <td>120000</td>\n",
       "      <td>Petrol</td>\n",
       "      <td>Individual</td>\n",
       "      <td>Manual</td>\n",
       "      <td>First Owner</td>\n",
       "      <td>16.10</td>\n",
       "      <td>1298.0</td>\n",
       "      <td>88.20</td>\n",
       "      <td>5.0</td>\n",
       "      <td>15</td>\n",
       "    </tr>\n",
       "    <tr>\n",
       "      <th>...</th>\n",
       "      <td>...</td>\n",
       "      <td>...</td>\n",
       "      <td>...</td>\n",
       "      <td>...</td>\n",
       "      <td>...</td>\n",
       "      <td>...</td>\n",
       "      <td>...</td>\n",
       "      <td>...</td>\n",
       "      <td>...</td>\n",
       "      <td>...</td>\n",
       "      <td>...</td>\n",
       "    </tr>\n",
       "    <tr>\n",
       "      <th>8123</th>\n",
       "      <td>320000</td>\n",
       "      <td>110000</td>\n",
       "      <td>Petrol</td>\n",
       "      <td>Individual</td>\n",
       "      <td>Manual</td>\n",
       "      <td>First Owner</td>\n",
       "      <td>18.50</td>\n",
       "      <td>1197.0</td>\n",
       "      <td>82.85</td>\n",
       "      <td>5.0</td>\n",
       "      <td>9</td>\n",
       "    </tr>\n",
       "    <tr>\n",
       "      <th>8124</th>\n",
       "      <td>135000</td>\n",
       "      <td>119000</td>\n",
       "      <td>Diesel</td>\n",
       "      <td>Individual</td>\n",
       "      <td>Manual</td>\n",
       "      <td>Fourth &amp; Above Owner</td>\n",
       "      <td>16.80</td>\n",
       "      <td>1493.0</td>\n",
       "      <td>110.00</td>\n",
       "      <td>5.0</td>\n",
       "      <td>15</td>\n",
       "    </tr>\n",
       "    <tr>\n",
       "      <th>8125</th>\n",
       "      <td>382000</td>\n",
       "      <td>120000</td>\n",
       "      <td>Diesel</td>\n",
       "      <td>Individual</td>\n",
       "      <td>Manual</td>\n",
       "      <td>First Owner</td>\n",
       "      <td>19.30</td>\n",
       "      <td>1248.0</td>\n",
       "      <td>73.90</td>\n",
       "      <td>5.0</td>\n",
       "      <td>13</td>\n",
       "    </tr>\n",
       "    <tr>\n",
       "      <th>8126</th>\n",
       "      <td>290000</td>\n",
       "      <td>25000</td>\n",
       "      <td>Diesel</td>\n",
       "      <td>Individual</td>\n",
       "      <td>Manual</td>\n",
       "      <td>First Owner</td>\n",
       "      <td>23.57</td>\n",
       "      <td>1396.0</td>\n",
       "      <td>70.00</td>\n",
       "      <td>5.0</td>\n",
       "      <td>9</td>\n",
       "    </tr>\n",
       "    <tr>\n",
       "      <th>8127</th>\n",
       "      <td>290000</td>\n",
       "      <td>25000</td>\n",
       "      <td>Diesel</td>\n",
       "      <td>Individual</td>\n",
       "      <td>Manual</td>\n",
       "      <td>First Owner</td>\n",
       "      <td>23.57</td>\n",
       "      <td>1396.0</td>\n",
       "      <td>70.00</td>\n",
       "      <td>5.0</td>\n",
       "      <td>9</td>\n",
       "    </tr>\n",
       "  </tbody>\n",
       "</table>\n",
       "<p>8128 rows × 11 columns</p>\n",
       "</div>"
      ],
      "text/plain": [
       "      selling_price  km_driven    fuel seller_type transmission  \\\n",
       "0            450000     145500  Diesel  Individual       Manual   \n",
       "1            370000     120000  Diesel  Individual       Manual   \n",
       "2            158000     140000  Petrol  Individual       Manual   \n",
       "3            225000     127000  Diesel  Individual       Manual   \n",
       "4            130000     120000  Petrol  Individual       Manual   \n",
       "...             ...        ...     ...         ...          ...   \n",
       "8123         320000     110000  Petrol  Individual       Manual   \n",
       "8124         135000     119000  Diesel  Individual       Manual   \n",
       "8125         382000     120000  Diesel  Individual       Manual   \n",
       "8126         290000      25000  Diesel  Individual       Manual   \n",
       "8127         290000      25000  Diesel  Individual       Manual   \n",
       "\n",
       "                     owner  mileage  engine  max_power  seats  car_age  \n",
       "0              First Owner    23.40  1248.0      74.00    5.0        8  \n",
       "1             Second Owner    21.14  1498.0     103.52    5.0        8  \n",
       "2              Third Owner    17.70  1497.0      78.00    5.0       16  \n",
       "3              First Owner    23.00  1396.0      90.00    5.0       12  \n",
       "4              First Owner    16.10  1298.0      88.20    5.0       15  \n",
       "...                    ...      ...     ...        ...    ...      ...  \n",
       "8123           First Owner    18.50  1197.0      82.85    5.0        9  \n",
       "8124  Fourth & Above Owner    16.80  1493.0     110.00    5.0       15  \n",
       "8125           First Owner    19.30  1248.0      73.90    5.0       13  \n",
       "8126           First Owner    23.57  1396.0      70.00    5.0        9  \n",
       "8127           First Owner    23.57  1396.0      70.00    5.0        9  \n",
       "\n",
       "[8128 rows x 11 columns]"
      ]
     },
     "execution_count": 57,
     "metadata": {},
     "output_type": "execute_result"
    }
   ],
   "source": [
    "# Answer Here\n",
    "X=df.drop(\"car_brand_name\",axis=1)\n",
    "X"
   ]
  },
  {
   "cell_type": "markdown",
   "id": "56e831c2",
   "metadata": {},
   "source": [
    "**Replace missing data in mileage with average values**"
   ]
  },
  {
   "cell_type": "code",
   "execution_count": 84,
   "id": "414dab62",
   "metadata": {
    "ExecuteTime": {
     "end_time": "2022-12-15T01:00:12.009639Z",
     "start_time": "2022-12-15T01:00:12.001625Z"
    }
   },
   "outputs": [],
   "source": [
    "# Answer Here\n",
    "df[\"mileage\"].fillna(df[\"mileage\"].mean(),inplace=True)"
   ]
  },
  {
   "cell_type": "markdown",
   "id": "b15d257b",
   "metadata": {},
   "source": [
    "**Replace missing data in max_power with average values**"
   ]
  },
  {
   "cell_type": "code",
   "execution_count": 65,
   "id": "1cdf07af",
   "metadata": {
    "ExecuteTime": {
     "end_time": "2022-12-15T01:00:12.025561Z",
     "start_time": "2022-12-15T01:00:12.010634Z"
    }
   },
   "outputs": [],
   "source": [
    "# Answer Here\n",
    "df[\"max_power\"].fillna(df[\"max_power\"].mean(),inplace=True)"
   ]
  },
  {
   "cell_type": "markdown",
   "id": "0d774c7f",
   "metadata": {},
   "source": [
    "**Replace missing data in engine with median values**"
   ]
  },
  {
   "cell_type": "code",
   "execution_count": 66,
   "id": "fe82f7cd",
   "metadata": {
    "ExecuteTime": {
     "end_time": "2022-12-15T01:00:12.041518Z",
     "start_time": "2022-12-15T01:00:12.027555Z"
    }
   },
   "outputs": [],
   "source": [
    "# Answer Here\n",
    "df[\"engine\"].fillna(df[\"engine\"].median(),inplace=True)"
   ]
  },
  {
   "cell_type": "markdown",
   "id": "f972f1a1",
   "metadata": {},
   "source": [
    "**Replace missing data in seats with median values**"
   ]
  },
  {
   "cell_type": "code",
   "execution_count": 67,
   "id": "895d4db1",
   "metadata": {
    "ExecuteTime": {
     "end_time": "2022-12-15T01:00:12.057502Z",
     "start_time": "2022-12-15T01:00:12.042515Z"
    }
   },
   "outputs": [],
   "source": [
    "# Answer Here\n",
    "df[\"seats\"].fillna(df[\"seats\"].median(),inplace=True)"
   ]
  },
  {
   "cell_type": "markdown",
   "id": "806f0b45",
   "metadata": {
    "ExecuteTime": {
     "end_time": "2022-12-13T11:08:58.563965Z",
     "start_time": "2022-12-13T11:08:58.546043Z"
    }
   },
   "source": [
    "**Convert categorical data in fuel column to the following values:**\n",
    "\n",
    "* Diesel: 0 \n",
    "* Petrol: 1\n",
    "* CNG: 2\n",
    "* LPG: 3\n"
   ]
  },
  {
   "cell_type": "code",
   "execution_count": 69,
   "id": "144e40a6",
   "metadata": {
    "ExecuteTime": {
     "end_time": "2022-12-15T01:00:12.073460Z",
     "start_time": "2022-12-15T01:00:12.059470Z"
    }
   },
   "outputs": [],
   "source": [
    "# Answer Here\n",
    "fuel_dict={\"Diesel\":0,\"Petrol\":1,\"CNG\":2,\"LPG\":3}\n",
    "df[\"fuel\"]=df[\"fuel\"].map(fuel_dict)"
   ]
  },
  {
   "cell_type": "markdown",
   "id": "90f3e2f1",
   "metadata": {
    "ExecuteTime": {
     "end_time": "2022-12-13T11:08:58.563965Z",
     "start_time": "2022-12-13T11:08:58.546043Z"
    }
   },
   "source": [
    "**Convert categorical data in seller_type column to the following values:**\n",
    "\n",
    "* Individual: 0 \n",
    "* Dealer: 1\n",
    "* Trustmark Dealer: 2"
   ]
  },
  {
   "cell_type": "code",
   "execution_count": 70,
   "id": "f4deb5b2",
   "metadata": {
    "ExecuteTime": {
     "end_time": "2022-12-15T01:00:12.088426Z",
     "start_time": "2022-12-15T01:00:12.074449Z"
    }
   },
   "outputs": [],
   "source": [
    "# Answer Here\n",
    "# Answer Here\n",
    "seller_type_dict={\"Individual\":0,\"Dealer\":1,\"Trustmark Dealer\":2}\n",
    "df[\"seller_type\"]=df[\"seller_type\"].map(seller_type_dict)"
   ]
  },
  {
   "cell_type": "markdown",
   "id": "bede967c",
   "metadata": {
    "ExecuteTime": {
     "end_time": "2022-12-13T11:08:58.563965Z",
     "start_time": "2022-12-13T11:08:58.546043Z"
    }
   },
   "source": [
    "**Convert categorical data in transmission column to the following values:**\n",
    "\n",
    "* Manual: 0 \n",
    "* Automatic: 1"
   ]
  },
  {
   "cell_type": "code",
   "execution_count": 71,
   "id": "253c40a9",
   "metadata": {
    "ExecuteTime": {
     "end_time": "2022-12-15T01:00:12.103681Z",
     "start_time": "2022-12-15T01:00:12.089425Z"
    }
   },
   "outputs": [],
   "source": [
    "# Answer Here\n",
    "transmission_dict={\"Manual\":0,\"Automatic\":1}\n",
    "df[\"transmission\"]=df[\"transmission\"].map(transmission_dict)"
   ]
  },
  {
   "cell_type": "markdown",
   "id": "0e47ae23",
   "metadata": {
    "ExecuteTime": {
     "end_time": "2022-12-13T11:08:58.563965Z",
     "start_time": "2022-12-13T11:08:58.546043Z"
    }
   },
   "source": [
    "**Convert categorical data in owner column to the following values:**\n",
    "\n",
    "* First Owner: 0 \n",
    "* Second Owner: 1\n",
    "* Third Owner: 2\n",
    "* Fourth & Above Owner: 3\n",
    "* Test Drive Car: 3"
   ]
  },
  {
   "cell_type": "code",
   "execution_count": 72,
   "id": "9b8cf1e8",
   "metadata": {
    "ExecuteTime": {
     "end_time": "2022-12-15T01:00:12.119524Z",
     "start_time": "2022-12-15T01:00:12.104725Z"
    }
   },
   "outputs": [],
   "source": [
    "# Answer Here\n",
    "owner_dict={\"First Owner\":0,\"Second Owner\":1,\"Third Owner\":2,\"Fourth & Above Owner\":3,\"Test Drive Car\":4}\n",
    "df[\"owner\"]=df[\"owner\"].map(owner_dict)"
   ]
  },
  {
   "cell_type": "markdown",
   "id": "sorted-making",
   "metadata": {
    "papermill": {
     "duration": 0.078148,
     "end_time": "2021-10-18T08:01:32.414691",
     "exception": false,
     "start_time": "2021-10-18T08:01:32.336543",
     "status": "completed"
    },
    "tags": []
   },
   "source": [
    "# Modeling"
   ]
  },
  {
   "cell_type": "markdown",
   "id": "acfcf3b7",
   "metadata": {},
   "source": [
    "**Separate the data into dependent variable (label - y) and independent variables (estimator/features - X)**"
   ]
  },
  {
   "cell_type": "code",
   "execution_count": 86,
   "id": "aaf06154",
   "metadata": {
    "ExecuteTime": {
     "end_time": "2022-12-15T01:00:12.135038Z",
     "start_time": "2022-12-15T01:00:12.126503Z"
    }
   },
   "outputs": [],
   "source": [
    "# Answer Here\n",
    "X=df.drop([\"selling_price\",\"car_brand_name\"],axis=1)\n",
    "y=df[\"selling_price\"]"
   ]
  },
  {
   "cell_type": "markdown",
   "id": "af7c0f7e",
   "metadata": {},
   "source": [
    "**Import the data spliting method from Scikit learn.**"
   ]
  },
  {
   "cell_type": "code",
   "execution_count": 87,
   "id": "df817549",
   "metadata": {
    "ExecuteTime": {
     "end_time": "2022-12-15T01:00:12.150343Z",
     "start_time": "2022-12-15T01:00:12.135992Z"
    }
   },
   "outputs": [],
   "source": [
    "# Answer Here\n",
    "from sklearn.model_selection import train_test_split"
   ]
  },
  {
   "cell_type": "markdown",
   "id": "55fd09b5",
   "metadata": {
    "ExecuteTime": {
     "end_time": "2022-12-13T11:31:39.702512Z",
     "start_time": "2022-12-13T11:31:39.689547Z"
    }
   },
   "source": [
    "**Split the dataset into x_train (y_train) and x_test (y_test) sets**\n",
    "\n",
    "Select 20% for test set, and 80% for training.\n",
    "It is critical to set random_state=1 in order to assure experiment reproducibility."
   ]
  },
  {
   "cell_type": "code",
   "execution_count": 88,
   "id": "284e24b6",
   "metadata": {
    "ExecuteTime": {
     "end_time": "2022-12-15T01:00:12.166334Z",
     "start_time": "2022-12-15T01:00:12.151387Z"
    }
   },
   "outputs": [],
   "source": [
    "# Answer Here\n",
    "X_train, X_test, y_train, y_test = train_test_split(X, y, test_size=0.2, random_state=1)"
   ]
  },
  {
   "cell_type": "markdown",
   "id": "78efce8a",
   "metadata": {},
   "source": [
    "**Import the simple linear regression model from scikit-learn.**"
   ]
  },
  {
   "cell_type": "code",
   "execution_count": 89,
   "id": "0017c42f",
   "metadata": {
    "ExecuteTime": {
     "end_time": "2022-12-15T01:00:12.182296Z",
     "start_time": "2022-12-15T01:00:12.167299Z"
    }
   },
   "outputs": [],
   "source": [
    "# Answer Here\n",
    "from sklearn.linear_model import LinearRegression"
   ]
  },
  {
   "cell_type": "markdown",
   "id": "7c5c69f8",
   "metadata": {},
   "source": [
    "**Create an instance of a LinearRegression model**"
   ]
  },
  {
   "cell_type": "code",
   "execution_count": 90,
   "id": "7f75f3b8",
   "metadata": {
    "ExecuteTime": {
     "end_time": "2022-12-15T01:00:12.198250Z",
     "start_time": "2022-12-15T01:00:12.183257Z"
    }
   },
   "outputs": [],
   "source": [
    "# Answer Here\n",
    "model = LinearRegression()"
   ]
  },
  {
   "cell_type": "markdown",
   "id": "bf2e7162",
   "metadata": {},
   "source": [
    "**Train/fit model.**"
   ]
  },
  {
   "cell_type": "code",
   "execution_count": 91,
   "id": "d1668e5b",
   "metadata": {
    "ExecuteTime": {
     "end_time": "2022-12-15T01:00:12.214206Z",
     "start_time": "2022-12-15T01:00:12.199259Z"
    }
   },
   "outputs": [
    {
     "data": {
      "text/plain": [
       "LinearRegression()"
      ]
     },
     "execution_count": 91,
     "metadata": {},
     "output_type": "execute_result"
    }
   ],
   "source": [
    "# Answer Here\n",
    "model.fit(X_train,y_train)"
   ]
  },
  {
   "cell_type": "markdown",
   "id": "bfe5d3e2",
   "metadata": {},
   "source": [
    "**Print out the coefficients of the model**"
   ]
  },
  {
   "cell_type": "code",
   "execution_count": 93,
   "id": "99e51871",
   "metadata": {
    "ExecuteTime": {
     "end_time": "2022-12-15T01:00:12.229489Z",
     "start_time": "2022-12-15T01:00:12.215205Z"
    }
   },
   "outputs": [
    {
     "data": {
      "text/plain": [
       "array([-1.65489351e+00, -4.30015553e+04,  1.07598582e+05,  5.04346001e+05,\n",
       "        3.22468479e+03,  2.01416207e+04, -5.28951924e+01,  1.45430164e+04,\n",
       "        5.19717871e+04, -2.49301607e+04])"
      ]
     },
     "execution_count": 93,
     "metadata": {},
     "output_type": "execute_result"
    }
   ],
   "source": [
    "# Answer Here\n",
    "model.coef_"
   ]
  },
  {
   "cell_type": "markdown",
   "id": "241a58a3",
   "metadata": {},
   "source": [
    "**Make prediction on test dataset**"
   ]
  },
  {
   "cell_type": "code",
   "execution_count": 95,
   "id": "3342c269",
   "metadata": {
    "ExecuteTime": {
     "end_time": "2022-12-15T01:00:12.245171Z",
     "start_time": "2022-12-15T01:00:12.230411Z"
    }
   },
   "outputs": [],
   "source": [
    "# Answer Here\n",
    "predictions=model.predict(X_test)"
   ]
  },
  {
   "cell_type": "markdown",
   "id": "1af0fb26",
   "metadata": {},
   "source": [
    "**Import evaluation metrics (Mean Absolute Error (MAE), Mean Squared Error (MSE), Root Mean Squared Error (RMSE) from Scikit learn.**"
   ]
  },
  {
   "cell_type": "code",
   "execution_count": 97,
   "id": "6152d9cb",
   "metadata": {},
   "outputs": [],
   "source": [
    "from sklearn import metrics"
   ]
  },
  {
   "cell_type": "markdown",
   "id": "d7c41299",
   "metadata": {
    "ExecuteTime": {
     "end_time": "2022-12-13T14:16:58.235005Z",
     "start_time": "2022-12-13T14:16:58.222019Z"
    }
   },
   "source": [
    "**Calculate the Mean Absolute Error, Mean Squared Error, and the Root Mean Squared Error.**"
   ]
  },
  {
   "cell_type": "code",
   "execution_count": 99,
   "id": "66f67b87",
   "metadata": {
    "ExecuteTime": {
     "end_time": "2022-12-15T01:00:12.277248Z",
     "start_time": "2022-12-15T01:00:12.262229Z"
    }
   },
   "outputs": [
    {
     "name": "stdout",
     "output_type": "stream",
     "text": [
      "MAE: 259334.47074814243\n",
      "MSE: 181693494696.19696\n",
      "RMSE: 426255.19902541593\n"
     ]
    }
   ],
   "source": [
    "# Answer Here\n",
    "print('MAE:', metrics.mean_absolute_error(y_test, predictions))\n",
    "print('MSE:', metrics.mean_squared_error(y_test, predictions))\n",
    "print('RMSE:', np.sqrt(metrics.mean_squared_error(y_test, predictions)))"
   ]
  },
  {
   "cell_type": "markdown",
   "id": "e0495bd9",
   "metadata": {},
   "source": [
    "**What is the expected selling price of the following car ?**\n",
    "\n",
    "    km_driven 73000\n",
    "    fuel 0\t  \n",
    "    seller_type 0\n",
    "    transmission 0\t\n",
    "    owner 1\n",
    "    mileage 45\n",
    "    engine 2775\n",
    "    max_power 86\n",
    "    seats 2\n",
    "    car_age 9"
   ]
  },
  {
   "cell_type": "code",
   "execution_count": 104,
   "id": "2e3a3d6e",
   "metadata": {
    "ExecuteTime": {
     "end_time": "2022-12-15T01:00:12.293173Z",
     "start_time": "2022-12-15T01:00:12.278166Z"
    }
   },
   "outputs": [],
   "source": [
    "# Answer Here\n",
    "test=np.array([73000,0,0,0,1,45,2775,86,2,9]).reshape(1,-1)"
   ]
  },
  {
   "cell_type": "code",
   "execution_count": 105,
   "id": "39e33db3",
   "metadata": {},
   "outputs": [],
   "source": [
    "answer=model.predict(test)"
   ]
  },
  {
   "cell_type": "code",
   "execution_count": 106,
   "id": "9a053189",
   "metadata": {},
   "outputs": [
    {
     "name": "stdout",
     "output_type": "stream",
     "text": [
      "[744706.21565309]\n"
     ]
    }
   ],
   "source": [
    "print(answer)"
   ]
  },
  {
   "cell_type": "code",
   "execution_count": null,
   "id": "bdc12ff6",
   "metadata": {},
   "outputs": [],
   "source": []
  }
 ],
 "metadata": {
  "kernelspec": {
   "display_name": "Python 3 (ipykernel)",
   "language": "python",
   "name": "python3"
  },
  "language_info": {
   "codemirror_mode": {
    "name": "ipython",
    "version": 3
   },
   "file_extension": ".py",
   "mimetype": "text/x-python",
   "name": "python",
   "nbconvert_exporter": "python",
   "pygments_lexer": "ipython3",
   "version": "3.9.13"
  }
 },
 "nbformat": 4,
 "nbformat_minor": 5
}
